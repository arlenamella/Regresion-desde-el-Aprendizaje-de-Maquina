{
 "cells": [
  {
   "cell_type": "markdown",
   "id": "f931b6f9-2b57-41ad-a8e3-4097bb5abd1b",
   "metadata": {},
   "source": [
    "Desafío Evaluado 5\n",
    "\n",
    "Descripción\n",
    "Una consultora internacional radicada en EEUU está buscando analistas, por lo que han\n",
    "diseñado una prueba que permita poder seleccionar a quienes cuenten con las habilidades\n",
    "necesarias para crear modelación estadística. Para ello, ponen a disposición de los\n",
    "interesados una base de datos sobre los precios de las viviendas en Boston, utilizada en el\n",
    "paper Harrison Jr, D., & Rubinfeld, D. L. (1978). Hedonic housing prices and the demand for\n",
    "clean air. Journal of environmental economics and management, 5(1), 81-102.\n",
    "El objetivo del ejercicio de captación de talento es desarrollar un modelo predictivo para el\n",
    "valor mediano de las casas mediante el entrenamiento de un modelo de regresión lineal.\n",
    "● crim : Tasa de criminalidad por sector de Boston.\n",
    "● zn proporción de terreno residencial asignado para terrenos baldíos.\n",
    "● indus proporción de negocios no asociados al comercio por sector.\n",
    "● chas Dummy. 1 si el sector colinda con el río Charles, 0 de lo contrario.\n",
    "● nox Concentración de dióxido de carbono.\n",
    "● rm cantidad promedio de habitaciones por casa.\n",
    "● age proporción de casas construidas antes de 1940.\n",
    "● dis distancia promedio a cinco centros de empleos.\n",
    "● rad índice de accesibilidad a autopistas.\n",
    "● tax nivel de impuestos asociados a viviendas.\n",
    "● ptratio razón alumno:profesor por sector de Boston.\n",
    "● black proporción de afroamericanos por sector de Boston.\n",
    "● lstat porcentaje de población de estratos bajos.\n",
    "● medv valor mediano de las casas."
   ]
  },
  {
   "cell_type": "markdown",
   "id": "dbc3ac36-0420-4d53-8316-3b9ab20ffc13",
   "metadata": {},
   "source": [
    "1. Preparar el ambiente de trabajo (1 puntos)\n",
    "● Importe las librerías básicas para el análisis de datos.\n",
    "● Importe el módulo linear_model , y las funciones mean_squared_error,r2_score y train_test_split .\n",
    "● Importe la base de datos boston.csv y elimine la columna Unnamed: 0 .\n",
    "● Obtenga las medidas descriptivas de la base de datos con .describe() .\n"
   ]
  },
  {
   "cell_type": "code",
   "execution_count": 1,
   "id": "b8555ac7-8526-4381-8c69-f6431620f84a",
   "metadata": {},
   "outputs": [],
   "source": [
    "%matplotlib inline\n",
    "import pandas as pd\n",
    "import numpy as np\n",
    "import scipy.stats as stats\n",
    "import matplotlib.pyplot as plt\n",
    "import statsmodels.api as sm\n",
    "import statsmodels.formula.api as smf\n",
    "import seaborn as sns\n",
    "import warnings\n",
    "warnings.filterwarnings(\"ignore\", category=DeprecationWarning)\n",
    "\n",
    "from sklearn import linear_model\n",
    "from sklearn.metrics import r2_score, mean_squared_error\n",
    "from sklearn.model_selection import train_test_split\n",
    "\n",
    "plt.style.use('seaborn-whitegrid') # Gráficos estilo seaborn\n",
    "plt.rcParams[\"figure.figsize\"] = (6, 4) # Tamaño gráficos\n",
    "plt.rcParams[\"figure.dpi\"] = 100 # resolución gráficos"
   ]
  },
  {
   "cell_type": "code",
   "execution_count": 2,
   "id": "c5e8ba9d-0e43-4bc3-8f9a-5aa0e2f0b9c5",
   "metadata": {},
   "outputs": [
    {
     "data": {
      "text/html": [
       "<div>\n",
       "<style scoped>\n",
       "    .dataframe tbody tr th:only-of-type {\n",
       "        vertical-align: middle;\n",
       "    }\n",
       "\n",
       "    .dataframe tbody tr th {\n",
       "        vertical-align: top;\n",
       "    }\n",
       "\n",
       "    .dataframe thead th {\n",
       "        text-align: right;\n",
       "    }\n",
       "</style>\n",
       "<table border=\"1\" class=\"dataframe\">\n",
       "  <thead>\n",
       "    <tr style=\"text-align: right;\">\n",
       "      <th></th>\n",
       "      <th>crim</th>\n",
       "      <th>zn</th>\n",
       "      <th>indus</th>\n",
       "      <th>chas</th>\n",
       "      <th>nox</th>\n",
       "      <th>rm</th>\n",
       "      <th>age</th>\n",
       "      <th>dis</th>\n",
       "      <th>rad</th>\n",
       "      <th>tax</th>\n",
       "      <th>ptratio</th>\n",
       "      <th>black</th>\n",
       "      <th>lstat</th>\n",
       "      <th>medv</th>\n",
       "    </tr>\n",
       "  </thead>\n",
       "  <tbody>\n",
       "    <tr>\n",
       "      <th>1</th>\n",
       "      <td>0.00632</td>\n",
       "      <td>18.0</td>\n",
       "      <td>2.31</td>\n",
       "      <td>0</td>\n",
       "      <td>0.538</td>\n",
       "      <td>6.575</td>\n",
       "      <td>65.2</td>\n",
       "      <td>4.0900</td>\n",
       "      <td>1</td>\n",
       "      <td>296</td>\n",
       "      <td>15.3</td>\n",
       "      <td>396.90</td>\n",
       "      <td>4.98</td>\n",
       "      <td>24.0</td>\n",
       "    </tr>\n",
       "    <tr>\n",
       "      <th>2</th>\n",
       "      <td>0.02731</td>\n",
       "      <td>0.0</td>\n",
       "      <td>7.07</td>\n",
       "      <td>0</td>\n",
       "      <td>0.469</td>\n",
       "      <td>6.421</td>\n",
       "      <td>78.9</td>\n",
       "      <td>4.9671</td>\n",
       "      <td>2</td>\n",
       "      <td>242</td>\n",
       "      <td>17.8</td>\n",
       "      <td>396.90</td>\n",
       "      <td>9.14</td>\n",
       "      <td>21.6</td>\n",
       "    </tr>\n",
       "    <tr>\n",
       "      <th>3</th>\n",
       "      <td>0.02729</td>\n",
       "      <td>0.0</td>\n",
       "      <td>7.07</td>\n",
       "      <td>0</td>\n",
       "      <td>0.469</td>\n",
       "      <td>7.185</td>\n",
       "      <td>61.1</td>\n",
       "      <td>4.9671</td>\n",
       "      <td>2</td>\n",
       "      <td>242</td>\n",
       "      <td>17.8</td>\n",
       "      <td>392.83</td>\n",
       "      <td>4.03</td>\n",
       "      <td>34.7</td>\n",
       "    </tr>\n",
       "    <tr>\n",
       "      <th>4</th>\n",
       "      <td>0.03237</td>\n",
       "      <td>0.0</td>\n",
       "      <td>2.18</td>\n",
       "      <td>0</td>\n",
       "      <td>0.458</td>\n",
       "      <td>6.998</td>\n",
       "      <td>45.8</td>\n",
       "      <td>6.0622</td>\n",
       "      <td>3</td>\n",
       "      <td>222</td>\n",
       "      <td>18.7</td>\n",
       "      <td>394.63</td>\n",
       "      <td>2.94</td>\n",
       "      <td>33.4</td>\n",
       "    </tr>\n",
       "    <tr>\n",
       "      <th>5</th>\n",
       "      <td>0.06905</td>\n",
       "      <td>0.0</td>\n",
       "      <td>2.18</td>\n",
       "      <td>0</td>\n",
       "      <td>0.458</td>\n",
       "      <td>7.147</td>\n",
       "      <td>54.2</td>\n",
       "      <td>6.0622</td>\n",
       "      <td>3</td>\n",
       "      <td>222</td>\n",
       "      <td>18.7</td>\n",
       "      <td>396.90</td>\n",
       "      <td>5.33</td>\n",
       "      <td>36.2</td>\n",
       "    </tr>\n",
       "  </tbody>\n",
       "</table>\n",
       "</div>"
      ],
      "text/plain": [
       "      crim    zn  indus  chas    nox     rm   age     dis  rad  tax  ptratio  \\\n",
       "1  0.00632  18.0   2.31     0  0.538  6.575  65.2  4.0900    1  296     15.3   \n",
       "2  0.02731   0.0   7.07     0  0.469  6.421  78.9  4.9671    2  242     17.8   \n",
       "3  0.02729   0.0   7.07     0  0.469  7.185  61.1  4.9671    2  242     17.8   \n",
       "4  0.03237   0.0   2.18     0  0.458  6.998  45.8  6.0622    3  222     18.7   \n",
       "5  0.06905   0.0   2.18     0  0.458  7.147  54.2  6.0622    3  222     18.7   \n",
       "\n",
       "    black  lstat  medv  \n",
       "1  396.90   4.98  24.0  \n",
       "2  396.90   9.14  21.6  \n",
       "3  392.83   4.03  34.7  \n",
       "4  394.63   2.94  33.4  \n",
       "5  396.90   5.33  36.2  "
      ]
     },
     "execution_count": 2,
     "metadata": {},
     "output_type": "execute_result"
    }
   ],
   "source": [
    "df = pd.read_csv('./boston.csv', index_col = 0)\n",
    "df.head()"
   ]
  },
  {
   "cell_type": "code",
   "execution_count": 3,
   "id": "300b5b19-b9c6-4a11-8ea6-f7e114e568b0",
   "metadata": {},
   "outputs": [
    {
     "name": "stdout",
     "output_type": "stream",
     "text": [
      "La base de datos tiene  506 observaciones y  14  columnas\n",
      "Las variables de la base de datos son  Index(['crim', 'zn', 'indus', 'chas', 'nox', 'rm', 'age', 'dis', 'rad', 'tax',\n",
      "       'ptratio', 'black', 'lstat', 'medv'],\n",
      "      dtype='object')\n"
     ]
    }
   ],
   "source": [
    "print(\"La base de datos tiene \", df.shape[0], \"observaciones y \",df.shape[1], \" columnas\")\n",
    "print(\"Las variables de la base de datos son \", df.columns)\n"
   ]
  },
  {
   "cell_type": "code",
   "execution_count": 4,
   "id": "0e06df82-0b8c-4c37-b009-50a22583f666",
   "metadata": {},
   "outputs": [
    {
     "data": {
      "text/html": [
       "<div>\n",
       "<style scoped>\n",
       "    .dataframe tbody tr th:only-of-type {\n",
       "        vertical-align: middle;\n",
       "    }\n",
       "\n",
       "    .dataframe tbody tr th {\n",
       "        vertical-align: top;\n",
       "    }\n",
       "\n",
       "    .dataframe thead th {\n",
       "        text-align: right;\n",
       "    }\n",
       "</style>\n",
       "<table border=\"1\" class=\"dataframe\">\n",
       "  <thead>\n",
       "    <tr style=\"text-align: right;\">\n",
       "      <th></th>\n",
       "      <th>crim</th>\n",
       "      <th>zn</th>\n",
       "      <th>indus</th>\n",
       "      <th>chas</th>\n",
       "      <th>nox</th>\n",
       "      <th>rm</th>\n",
       "      <th>age</th>\n",
       "      <th>dis</th>\n",
       "      <th>rad</th>\n",
       "      <th>tax</th>\n",
       "      <th>ptratio</th>\n",
       "      <th>black</th>\n",
       "      <th>lstat</th>\n",
       "      <th>medv</th>\n",
       "    </tr>\n",
       "  </thead>\n",
       "  <tbody>\n",
       "    <tr>\n",
       "      <th>count</th>\n",
       "      <td>506.000000</td>\n",
       "      <td>506.000000</td>\n",
       "      <td>506.000000</td>\n",
       "      <td>506.000000</td>\n",
       "      <td>506.000000</td>\n",
       "      <td>506.000000</td>\n",
       "      <td>506.000000</td>\n",
       "      <td>506.000000</td>\n",
       "      <td>506.000000</td>\n",
       "      <td>506.000000</td>\n",
       "      <td>506.000000</td>\n",
       "      <td>506.000000</td>\n",
       "      <td>506.000000</td>\n",
       "      <td>506.000000</td>\n",
       "    </tr>\n",
       "    <tr>\n",
       "      <th>mean</th>\n",
       "      <td>3.613524</td>\n",
       "      <td>11.363636</td>\n",
       "      <td>11.136779</td>\n",
       "      <td>0.069170</td>\n",
       "      <td>0.554695</td>\n",
       "      <td>6.284634</td>\n",
       "      <td>68.574901</td>\n",
       "      <td>3.795043</td>\n",
       "      <td>9.549407</td>\n",
       "      <td>408.237154</td>\n",
       "      <td>18.455534</td>\n",
       "      <td>356.674032</td>\n",
       "      <td>12.653063</td>\n",
       "      <td>22.532806</td>\n",
       "    </tr>\n",
       "    <tr>\n",
       "      <th>std</th>\n",
       "      <td>8.601545</td>\n",
       "      <td>23.322453</td>\n",
       "      <td>6.860353</td>\n",
       "      <td>0.253994</td>\n",
       "      <td>0.115878</td>\n",
       "      <td>0.702617</td>\n",
       "      <td>28.148861</td>\n",
       "      <td>2.105710</td>\n",
       "      <td>8.707259</td>\n",
       "      <td>168.537116</td>\n",
       "      <td>2.164946</td>\n",
       "      <td>91.294864</td>\n",
       "      <td>7.141062</td>\n",
       "      <td>9.197104</td>\n",
       "    </tr>\n",
       "    <tr>\n",
       "      <th>min</th>\n",
       "      <td>0.006320</td>\n",
       "      <td>0.000000</td>\n",
       "      <td>0.460000</td>\n",
       "      <td>0.000000</td>\n",
       "      <td>0.385000</td>\n",
       "      <td>3.561000</td>\n",
       "      <td>2.900000</td>\n",
       "      <td>1.129600</td>\n",
       "      <td>1.000000</td>\n",
       "      <td>187.000000</td>\n",
       "      <td>12.600000</td>\n",
       "      <td>0.320000</td>\n",
       "      <td>1.730000</td>\n",
       "      <td>5.000000</td>\n",
       "    </tr>\n",
       "    <tr>\n",
       "      <th>25%</th>\n",
       "      <td>0.082045</td>\n",
       "      <td>0.000000</td>\n",
       "      <td>5.190000</td>\n",
       "      <td>0.000000</td>\n",
       "      <td>0.449000</td>\n",
       "      <td>5.885500</td>\n",
       "      <td>45.025000</td>\n",
       "      <td>2.100175</td>\n",
       "      <td>4.000000</td>\n",
       "      <td>279.000000</td>\n",
       "      <td>17.400000</td>\n",
       "      <td>375.377500</td>\n",
       "      <td>6.950000</td>\n",
       "      <td>17.025000</td>\n",
       "    </tr>\n",
       "    <tr>\n",
       "      <th>50%</th>\n",
       "      <td>0.256510</td>\n",
       "      <td>0.000000</td>\n",
       "      <td>9.690000</td>\n",
       "      <td>0.000000</td>\n",
       "      <td>0.538000</td>\n",
       "      <td>6.208500</td>\n",
       "      <td>77.500000</td>\n",
       "      <td>3.207450</td>\n",
       "      <td>5.000000</td>\n",
       "      <td>330.000000</td>\n",
       "      <td>19.050000</td>\n",
       "      <td>391.440000</td>\n",
       "      <td>11.360000</td>\n",
       "      <td>21.200000</td>\n",
       "    </tr>\n",
       "    <tr>\n",
       "      <th>75%</th>\n",
       "      <td>3.677083</td>\n",
       "      <td>12.500000</td>\n",
       "      <td>18.100000</td>\n",
       "      <td>0.000000</td>\n",
       "      <td>0.624000</td>\n",
       "      <td>6.623500</td>\n",
       "      <td>94.075000</td>\n",
       "      <td>5.188425</td>\n",
       "      <td>24.000000</td>\n",
       "      <td>666.000000</td>\n",
       "      <td>20.200000</td>\n",
       "      <td>396.225000</td>\n",
       "      <td>16.955000</td>\n",
       "      <td>25.000000</td>\n",
       "    </tr>\n",
       "    <tr>\n",
       "      <th>max</th>\n",
       "      <td>88.976200</td>\n",
       "      <td>100.000000</td>\n",
       "      <td>27.740000</td>\n",
       "      <td>1.000000</td>\n",
       "      <td>0.871000</td>\n",
       "      <td>8.780000</td>\n",
       "      <td>100.000000</td>\n",
       "      <td>12.126500</td>\n",
       "      <td>24.000000</td>\n",
       "      <td>711.000000</td>\n",
       "      <td>22.000000</td>\n",
       "      <td>396.900000</td>\n",
       "      <td>37.970000</td>\n",
       "      <td>50.000000</td>\n",
       "    </tr>\n",
       "  </tbody>\n",
       "</table>\n",
       "</div>"
      ],
      "text/plain": [
       "             crim          zn       indus        chas         nox          rm  \\\n",
       "count  506.000000  506.000000  506.000000  506.000000  506.000000  506.000000   \n",
       "mean     3.613524   11.363636   11.136779    0.069170    0.554695    6.284634   \n",
       "std      8.601545   23.322453    6.860353    0.253994    0.115878    0.702617   \n",
       "min      0.006320    0.000000    0.460000    0.000000    0.385000    3.561000   \n",
       "25%      0.082045    0.000000    5.190000    0.000000    0.449000    5.885500   \n",
       "50%      0.256510    0.000000    9.690000    0.000000    0.538000    6.208500   \n",
       "75%      3.677083   12.500000   18.100000    0.000000    0.624000    6.623500   \n",
       "max     88.976200  100.000000   27.740000    1.000000    0.871000    8.780000   \n",
       "\n",
       "              age         dis         rad         tax     ptratio       black  \\\n",
       "count  506.000000  506.000000  506.000000  506.000000  506.000000  506.000000   \n",
       "mean    68.574901    3.795043    9.549407  408.237154   18.455534  356.674032   \n",
       "std     28.148861    2.105710    8.707259  168.537116    2.164946   91.294864   \n",
       "min      2.900000    1.129600    1.000000  187.000000   12.600000    0.320000   \n",
       "25%     45.025000    2.100175    4.000000  279.000000   17.400000  375.377500   \n",
       "50%     77.500000    3.207450    5.000000  330.000000   19.050000  391.440000   \n",
       "75%     94.075000    5.188425   24.000000  666.000000   20.200000  396.225000   \n",
       "max    100.000000   12.126500   24.000000  711.000000   22.000000  396.900000   \n",
       "\n",
       "            lstat        medv  \n",
       "count  506.000000  506.000000  \n",
       "mean    12.653063   22.532806  \n",
       "std      7.141062    9.197104  \n",
       "min      1.730000    5.000000  \n",
       "25%      6.950000   17.025000  \n",
       "50%     11.360000   21.200000  \n",
       "75%     16.955000   25.000000  \n",
       "max     37.970000   50.000000  "
      ]
     },
     "execution_count": 4,
     "metadata": {},
     "output_type": "execute_result"
    }
   ],
   "source": [
    "df.describe()"
   ]
  },
  {
   "cell_type": "markdown",
   "id": "70a4d2fb-fe7e-4a73-992a-f914f95995ce",
   "metadata": {},
   "source": [
    "2. Dividir la muestra (1 puntos)\n",
    "● Genere conjuntos de entrenamiento y pruebas con train_test_split .\n",
    "● Reserve un 33% de la muestra para el conjunto de pruebas.\n",
    "● Incluya una semilla pseudoaleatoria a su elección, esto lo puede hacer con el\n",
    "argumento random_state dentro del método train_test_plit"
   ]
  },
  {
   "cell_type": "code",
   "execution_count": 5,
   "id": "6447b59d-ae21-4eae-9050-4c481e1dd322",
   "metadata": {},
   "outputs": [
    {
     "data": {
      "text/plain": [
       "(         crim    zn  indus  chas    nox     rm   age     dis  rad  tax  \\\n",
       " 471   4.34879   0.0  18.10     0  0.580  6.167  84.0  3.0334   24  666   \n",
       " 237   0.52058   0.0   6.20     1  0.507  6.631  76.5  4.1480    8  307   \n",
       " 70    0.12816  12.5   6.07     0  0.409  5.885  33.0  6.4980    4  345   \n",
       " 126   0.16902   0.0  25.65     0  0.581  5.986  88.4  1.9929    2  188   \n",
       " 422   7.02259   0.0  18.10     0  0.718  6.006  95.3  1.8746   24  666   \n",
       " ..        ...   ...    ...   ...    ...    ...   ...     ...  ...  ...   \n",
       " 60    0.10328  25.0   5.13     0  0.453  5.927  47.2  6.9320    8  284   \n",
       " 174   0.09178   0.0   4.05     0  0.510  6.416  84.1  2.6463    5  296   \n",
       " 242   0.10612  30.0   4.93     0  0.428  6.095  65.1  6.3361    6  300   \n",
       " 420  11.81230   0.0  18.10     0  0.718  6.824  76.5  1.7940   24  666   \n",
       " 277   0.10469  40.0   6.41     1  0.447  7.267  49.0  4.7872    4  254   \n",
       " \n",
       "      ptratio   black  lstat  \n",
       " 471     20.2  396.90  16.29  \n",
       " 237     17.4  388.45   9.54  \n",
       " 70      18.9  396.90   8.79  \n",
       " 126     19.1  385.02  14.81  \n",
       " 422     20.2  319.98  15.70  \n",
       " ..       ...     ...    ...  \n",
       " 60      19.7  396.90   9.22  \n",
       " 174     16.6  395.50   9.04  \n",
       " 242     16.6  394.62  12.40  \n",
       " 420     20.2   48.45  22.74  \n",
       " 277     17.6  389.25   6.05  \n",
       " \n",
       " [339 rows x 13 columns],\n",
       "          crim    zn  indus  chas    nox     rm    age     dis  rad  tax  \\\n",
       " 317   0.31827   0.0   9.90     0  0.544  5.914   83.2  3.9986    4  304   \n",
       " 219   0.11069   0.0  13.89     1  0.550  5.951   93.8  2.8893    5  276   \n",
       " 486   3.67367   0.0  18.10     0  0.583  6.312   51.9  3.9917   24  666   \n",
       " 275   0.05644  40.0   6.41     1  0.447  6.758   32.9  4.0776    4  254   \n",
       " 428  37.66190   0.0  18.10     0  0.679  6.202   78.7  1.8629   24  666   \n",
       " ..        ...   ...    ...   ...    ...    ...    ...     ...  ...  ...   \n",
       " 419  73.53410   0.0  18.10     0  0.679  5.957  100.0  1.8026   24  666   \n",
       " 134   0.32982   0.0  21.89     0  0.624  5.822   95.4  2.4699    4  437   \n",
       " 162   1.46336   0.0  19.58     0  0.605  7.489   90.8  1.9709    5  403   \n",
       " 449   9.32909   0.0  18.10     0  0.713  6.185   98.7  2.2616   24  666   \n",
       " 503   0.04527   0.0  11.93     0  0.573  6.120   76.7  2.2875    1  273   \n",
       " \n",
       "      ptratio   black  lstat  \n",
       " 317     18.4  390.70  18.33  \n",
       " 219     16.4  396.90  17.92  \n",
       " 486     20.2  388.62  10.58  \n",
       " 275     17.6  396.90   3.53  \n",
       " 428     20.2   18.82  14.52  \n",
       " ..       ...     ...    ...  \n",
       " 419     20.2   16.45  20.62  \n",
       " 134     21.2  388.69  15.03  \n",
       " 162     14.7  374.43   1.73  \n",
       " 449     20.2  396.90  18.13  \n",
       " 503     21.0  396.90   9.08  \n",
       " \n",
       " [167 rows x 13 columns],\n",
       " 471    19.9\n",
       " 237    25.1\n",
       " 70     20.9\n",
       " 126    21.4\n",
       " 422    14.2\n",
       "        ... \n",
       " 60     19.6\n",
       " 174    23.6\n",
       " 242    20.1\n",
       " 420     8.4\n",
       " 277    33.2\n",
       " Name: medv, Length: 339, dtype: float64,\n",
       " 317    17.8\n",
       " 219    21.5\n",
       " 486    21.2\n",
       " 275    32.4\n",
       " 428    10.9\n",
       "        ... \n",
       " 419     8.8\n",
       " 134    18.4\n",
       " 162    50.0\n",
       " 449    14.1\n",
       " 503    20.6\n",
       " Name: medv, Length: 167, dtype: float64)"
      ]
     },
     "execution_count": 5,
     "metadata": {},
     "output_type": "execute_result"
    }
   ],
   "source": [
    "y = df['medv']\n",
    "X = df.drop('medv', axis = 1)\n",
    "\n",
    "X_train, X_test, y_train, y_test = train_test_split(X, y, test_size=0.33,random_state= 44)\n",
    "\n",
    "X_train, X_test, y_train, y_test"
   ]
  },
  {
   "cell_type": "markdown",
   "id": "c273dd93-2ba2-445f-b6fe-1443db2a2260",
   "metadata": {},
   "source": [
    "3. Generar modelos (2 puntos)\n",
    "● Ahora implementaremos dos versiones del modelo lineal:\n",
    "○ Con intercepto.\n",
    "○ Sin intercepto.\n",
    "● Cada versión debe generarse en un nuevo objeto inicializado.\n",
    "● Posteriormente se deben entrenar los modelos especificando la matriz y vector\n",
    "de entrenamiento.\n",
    "● Con los modelos entrenados, genere una predicción de la matriz de pruebas con\n",
    "el método .predict().\n"
   ]
  },
  {
   "cell_type": "code",
   "execution_count": 7,
   "id": "d10cd6ea-61b5-4b96-bb29-357b1164d9e2",
   "metadata": {},
   "outputs": [
    {
     "name": "stdout",
     "output_type": "stream",
     "text": [
      "El mean_squared_error del train con intercepto es: 20.05744029199928, \n",
      " y el mean_squared_error para el test con intercepto es : 27.593562379656394\n",
      "--------------------------------------------------------------------------------\n",
      "El r cuadrado score para el train con intercepto es: 0.7391405291456344, \n",
      " y el r cuadrado score para el test con intercepto es: 0.71945742430205\n"
     ]
    }
   ],
   "source": [
    "#Primero el modelo con Intercepto\n",
    "\n",
    "modelo_intercepto = linear_model.LinearRegression(fit_intercept = True)\n",
    "modelo_intercepto.fit(X_train, y_train)\n",
    "predic_train_intercepto = modelo_intercepto.predict(X_train)\n",
    "predic_test_intercepto = modelo_intercepto.predict(X_test)\n",
    "\n",
    "mse_train = mean_squared_error(y_train,predic_train_intercepto)\n",
    "mse_test = mean_squared_error(y_test,predic_test_intercepto)\n",
    "\n",
    "r2_train = r2_score(y_train,predic_train_intercepto)\n",
    "r2_test = r2_score(y_test,predic_test_intercepto)\n",
    "\n",
    "print(f'El mean_squared_error del train con intercepto es: {mse_train}, \\n y el mean_squared_error para el test con intercepto es : {mse_test}')\n",
    "print('-'*80)\n",
    "print(f'El r cuadrado score para el train con intercepto es: {r2_train}, \\n y el r cuadrado score para el test con intercepto es: {r2_test}')"
   ]
  },
  {
   "cell_type": "code",
   "execution_count": 8,
   "id": "716b54d9-50ff-4d79-b8c5-42eef8720a41",
   "metadata": {},
   "outputs": [
    {
     "name": "stdout",
     "output_type": "stream",
     "text": [
      "El mean_squared_error del train sin intercepto es: 22.77533328463743, \n",
      " y el mean_squared_error para el test sin intercepto es : 28.692826388894836\n",
      "--------------------------------------------------------------------------------\n",
      "El r cuadrado score para el train sin intercepto es: 0.703792642397534, \n",
      " y el r cuadrado score para el test sin intercepto es: 0.7082812538503809\n"
     ]
    }
   ],
   "source": [
    "#Ahora sin intercepto\n",
    "\n",
    "modelo_no_intercepto = linear_model.LinearRegression(fit_intercept = False)\n",
    "modelo_no_intercepto.fit(X_train, y_train)\n",
    "predic_train_no_intercepto = modelo_no_intercepto.predict(X_train)\n",
    "predic_test_no_intercepto = modelo_no_intercepto.predict(X_test)\n",
    "\n",
    "mse_train2 = mean_squared_error(y_train,predic_train_no_intercepto)\n",
    "mse_test2 = mean_squared_error(y_test,predic_test_no_intercepto)\n",
    "\n",
    "r2_train2 = r2_score(y_train,predic_train_no_intercepto)\n",
    "r2_test2 = r2_score(y_test,predic_test_no_intercepto)\n",
    "\n",
    "print(f'El mean_squared_error del train sin intercepto es: {mse_train2}, \\n y el mean_squared_error para el test sin intercepto es : {mse_test2}')\n",
    "print('-'*80)\n",
    "print(f'El r cuadrado score para el train sin intercepto es: {r2_train2}, \\n y el r cuadrado score para el test sin intercepto es: {r2_test2}')\n"
   ]
  },
  {
   "cell_type": "markdown",
   "id": "5735b3f8-02fc-46a0-b48b-c166c93817b6",
   "metadata": {},
   "source": [
    "4. Obtención de métricas (1 puntos)\n",
    "● Ahora generaremos una función llamada report_scores que ingrese como\n",
    "argumentos el vector de datos predichos y el vector de datos por validar.\n",
    "● La función debe imprimir las métricas del Error Cuadrático Promedio y R2.\n",
    "● Reporte las métricas para ambos modelos. En base a ello, seleccione el mejor modelo."
   ]
  },
  {
   "cell_type": "code",
   "execution_count": 9,
   "id": "de35e251-6e04-4123-969d-9621120f9228",
   "metadata": {},
   "outputs": [],
   "source": [
    "def report_score(modelo, y_test, prediccion_test):\n",
    "    \n",
    "    mse = mean_squared_error(y_test,prediccion_test).round(4)\n",
    "    r2 = r2_score(y_test,prediccion_test).round(4)    \n",
    "    print(f'Modelo {modelo}:')\n",
    "    print(f'El error cuadratico promedio del modelo {modelo} es: {mse}')\n",
    "    print(f'El R2 del modelo {modelo} es: {r2}')\n",
    "                   \n",
    "    return mse, r2"
   ]
  },
  {
   "cell_type": "code",
   "execution_count": 10,
   "id": "f6225fd3-005e-41f4-89b7-8e7e23dbbf20",
   "metadata": {},
   "outputs": [
    {
     "name": "stdout",
     "output_type": "stream",
     "text": [
      "Modelo con intercepto:\n",
      "El error cuadratico promedio del modelo con intercepto es: 27.5936\n",
      "El R2 del modelo con intercepto es: 0.7195\n"
     ]
    }
   ],
   "source": [
    "#revisamos la función con intercepto\n",
    "mse_intercepto, r2_intercepto = report_score('con intercepto',y_test, predic_test_intercepto)"
   ]
  },
  {
   "cell_type": "code",
   "execution_count": 11,
   "id": "18d17ae6-77a3-4c95-9d78-f91e4f7c7c10",
   "metadata": {},
   "outputs": [
    {
     "name": "stdout",
     "output_type": "stream",
     "text": [
      "Modelo sin intercepto:\n",
      "El error cuadratico promedio del modelo sin intercepto es: 28.6928\n",
      "El R2 del modelo sin intercepto es: 0.7083\n"
     ]
    }
   ],
   "source": [
    "#Ahora revisamos sin intercepto\n",
    "mse_no_intercepto, r2_no_intercepto = report_score ('sin intercepto',y_test, predic_test_no_intercepto)"
   ]
  },
  {
   "cell_type": "code",
   "execution_count": 12,
   "id": "fb6a36b3-d353-4c7c-baee-c5a5f5cc6df2",
   "metadata": {},
   "outputs": [
    {
     "data": {
      "image/png": "[encoded data removed]",
      "text/plain": [
       "<Figure size 600x400 with 2 Axes>"
      ]
     },
     "metadata": {},
     "output_type": "display_data"
    }
   ],
   "source": [
    "#Para escoger el mejor modelo, heremos los gráficos\n",
    "\n",
    "labels = ['Modelo 1\\nCon Intercepto', 'Modelo 2\\nSin Intercepto']\n",
    "plt.subplot(2,1,1)\n",
    "plt.barh(labels,[mse_intercepto,mse_no_intercepto])\n",
    "plt.title('Promedio Error Cuadratico')\n",
    "plt.subplot(2,1,2)\n",
    "plt.barh(labels,[r2_intercepto,r2_no_intercepto])\n",
    "plt.title('R2')\n",
    "plt.tight_layout()\n"
   ]
  },
  {
   "cell_type": "code",
   "execution_count": null,
   "id": "e09805a9-a09c-40a0-95b9-c9c685533963",
   "metadata": {},
   "outputs": [],
   "source": [
    "#Se acercan mucho los modelos con y sin intercepto"
   ]
  },
  {
   "cell_type": "markdown",
   "id": "0fe2c299-cbf8-4273-a09f-c9375bb431b1",
   "metadata": {},
   "source": [
    "5. Refactorización del modelo (1 puntos)\n",
    "● Genere una función llamada fetch_features que ingrese como argumentos la\n",
    "base de datos y el nombre del vector objetivo. El nombre del vector debe ser medv por defecto.\n",
    "● La función debe retornar una lista con las correlaciones entre cada atributo y el\n",
    "vector objetivo y su nombre.\n",
    "● Reporte brevemente cuales son los 6 atributos con una mayor correlación\n",
    "absoluta con medv (de mayor a menor correlación).\n"
   ]
  },
  {
   "cell_type": "code",
   "execution_count": 13,
   "id": "fe90729e-ccc9-4b6a-b81d-b060a5811efe",
   "metadata": {},
   "outputs": [
    {
     "data": {
      "text/html": [
       "<div>\n",
       "<style scoped>\n",
       "    .dataframe tbody tr th:only-of-type {\n",
       "        vertical-align: middle;\n",
       "    }\n",
       "\n",
       "    .dataframe tbody tr th {\n",
       "        vertical-align: top;\n",
       "    }\n",
       "\n",
       "    .dataframe thead th {\n",
       "        text-align: right;\n",
       "    }\n",
       "</style>\n",
       "<table border=\"1\" class=\"dataframe\">\n",
       "  <thead>\n",
       "    <tr style=\"text-align: right;\">\n",
       "      <th></th>\n",
       "      <th>Correlacion</th>\n",
       "      <th>Corr. Absoluta</th>\n",
       "    </tr>\n",
       "    <tr>\n",
       "      <th>Atributo</th>\n",
       "      <th></th>\n",
       "      <th></th>\n",
       "    </tr>\n",
       "  </thead>\n",
       "  <tbody>\n",
       "    <tr>\n",
       "      <th>lstat</th>\n",
       "      <td>-0.74</td>\n",
       "      <td>0.74</td>\n",
       "    </tr>\n",
       "    <tr>\n",
       "      <th>rm</th>\n",
       "      <td>0.70</td>\n",
       "      <td>0.70</td>\n",
       "    </tr>\n",
       "    <tr>\n",
       "      <th>ptratio</th>\n",
       "      <td>-0.51</td>\n",
       "      <td>0.51</td>\n",
       "    </tr>\n",
       "    <tr>\n",
       "      <th>indus</th>\n",
       "      <td>-0.48</td>\n",
       "      <td>0.48</td>\n",
       "    </tr>\n",
       "    <tr>\n",
       "      <th>tax</th>\n",
       "      <td>-0.47</td>\n",
       "      <td>0.47</td>\n",
       "    </tr>\n",
       "    <tr>\n",
       "      <th>nox</th>\n",
       "      <td>-0.43</td>\n",
       "      <td>0.43</td>\n",
       "    </tr>\n",
       "    <tr>\n",
       "      <th>crim</th>\n",
       "      <td>-0.39</td>\n",
       "      <td>0.39</td>\n",
       "    </tr>\n",
       "    <tr>\n",
       "      <th>rad</th>\n",
       "      <td>-0.38</td>\n",
       "      <td>0.38</td>\n",
       "    </tr>\n",
       "    <tr>\n",
       "      <th>age</th>\n",
       "      <td>-0.38</td>\n",
       "      <td>0.38</td>\n",
       "    </tr>\n",
       "    <tr>\n",
       "      <th>zn</th>\n",
       "      <td>0.36</td>\n",
       "      <td>0.36</td>\n",
       "    </tr>\n",
       "    <tr>\n",
       "      <th>black</th>\n",
       "      <td>0.33</td>\n",
       "      <td>0.33</td>\n",
       "    </tr>\n",
       "    <tr>\n",
       "      <th>dis</th>\n",
       "      <td>0.25</td>\n",
       "      <td>0.25</td>\n",
       "    </tr>\n",
       "    <tr>\n",
       "      <th>chas</th>\n",
       "      <td>0.18</td>\n",
       "      <td>0.18</td>\n",
       "    </tr>\n",
       "  </tbody>\n",
       "</table>\n",
       "</div>"
      ],
      "text/plain": [
       "          Correlacion  Corr. Absoluta\n",
       "Atributo                             \n",
       "lstat           -0.74            0.74\n",
       "rm               0.70            0.70\n",
       "ptratio         -0.51            0.51\n",
       "indus           -0.48            0.48\n",
       "tax             -0.47            0.47\n",
       "nox             -0.43            0.43\n",
       "crim            -0.39            0.39\n",
       "rad             -0.38            0.38\n",
       "age             -0.38            0.38\n",
       "zn               0.36            0.36\n",
       "black            0.33            0.33\n",
       "dis              0.25            0.25\n",
       "chas             0.18            0.18"
      ]
     },
     "execution_count": 13,
     "metadata": {},
     "output_type": "execute_result"
    },
    {
     "data": {
      "image/png": "[encoded data removed]",
      "text/plain": [
       "<Figure size 600x400 with 2 Axes>"
      ]
     },
     "metadata": {},
     "output_type": "display_data"
    }
   ],
   "source": [
    "def fetch_features(df, vector_obj = 'medv'):\n",
    "    columnas = df.columns\n",
    "    nomb_atrib,corr_atrib,corr_atrib_abs = [],[],[]\n",
    "    for col in columnas:\n",
    "        if col != vector_obj:\n",
    "            nomb_atrib.append(col)\n",
    "            corr_atrib.append(df[col].corr(df[vector_obj]))\n",
    "            corr_atrib_abs.append(abs(df[col].corr(df[vector_obj])))\n",
    "            \n",
    "    tabla = pd.DataFrame({'Atributo':nomb_atrib,'Correlacion':corr_atrib,'Corr. Absoluta':corr_atrib_abs})   \n",
    "    tabla = tabla.set_index('Atributo')\n",
    "    tabla = tabla.sort_values(by =['Corr. Absoluta'],ascending = False).round(2)\n",
    "    \n",
    "    cor = abs(pd.get_dummies(df, drop_first = True).corr().round(2))\n",
    "    top_6 = cor['medv'].sort_values(ascending = False)[1:-7]\n",
    "    sns.heatmap(cor.loc[:,['medv']].sort_values(by = 'medv',ascending = False)[1:-7],annot= True, cmap='Blues')\n",
    "    return tabla\n",
    "\n",
    "fetch_features(df) \n"
   ]
  },
  {
   "cell_type": "markdown",
   "id": "a5e51574-28cb-479f-b9e0-7e84bf54df77",
   "metadata": {},
   "source": [
    "6. Refactorización del modelo predictivo (2 puntos)\n",
    "● Genere otros conjuntos de entrenamiento y validación en base a una matriz con\n",
    "los 6 atributos identificados en el ejercicio anterior, y el vector objetivo.\n",
    "● Entrene un modelo en base al mejor desempeño.\n",
    "● Reporte las métricas para el nuevo modelo."
   ]
  },
  {
   "cell_type": "code",
   "execution_count": 14,
   "id": "ce4fded0-a461-4aea-906d-5a9e4e944899",
   "metadata": {},
   "outputs": [],
   "source": [
    "cols = ['lstat', 'rm','ptratio', 'indus', 'tax', 'nox' ]\n",
    "y = df['medv']\n",
    "X = df.loc[:,cols]\n",
    "\n",
    "X_train1, X_test1, y_train1, y_test1 = train_test_split(X, y, test_size=0.33,random_state= 44)"
   ]
  },
  {
   "cell_type": "code",
   "execution_count": 15,
   "id": "53cfbf06-3e66-4cff-b272-c9bbe2c70d2c",
   "metadata": {},
   "outputs": [],
   "source": [
    "model= linear_model.LinearRegression()\n",
    "model.fit(X_train1, y_train1)\n",
    "pred_test= model.predict(X_test1)"
   ]
  },
  {
   "cell_type": "code",
   "execution_count": 16,
   "id": "d4ee6108-5905-4486-87f6-a073c2625730",
   "metadata": {},
   "outputs": [
    {
     "data": {
      "text/plain": [
       "(31.214169745782097, 0.6826468631244641)"
      ]
     },
     "execution_count": 16,
     "metadata": {},
     "output_type": "execute_result"
    }
   ],
   "source": [
    "mse_test2 = mean_squared_error(y_test,pred_test)\n",
    "r2_test2 = r2_score(y_test,pred_test)\n",
    "\n",
    "mse_test2,r2_test2"
   ]
  },
  {
   "cell_type": "code",
   "execution_count": 17,
   "id": "19ff0b7b-e7cc-481f-93c2-b9f6d5ba8627",
   "metadata": {},
   "outputs": [
    {
     "data": {
      "image/png": "[encoded data removed]",
      "text/plain": [
       "<Figure size 600x400 with 2 Axes>"
      ]
     },
     "metadata": {},
     "output_type": "display_data"
    }
   ],
   "source": [
    "labels = ['Modelo 1\\nTodos los Atributos', 'Modelo 2\\nAtributos Redefinidos']\n",
    "plt.subplot(2,1,1)\n",
    "plt.barh(labels,[mse_intercepto,mse_test])\n",
    "plt.title('Promedio Error Cuadratico')\n",
    "plt.subplot(2,1,2)\n",
    "plt.barh(labels,[r2_intercepto,r2_test])\n",
    "plt.title('R2')\n",
    "plt.tight_layout()"
   ]
  },
  {
   "cell_type": "markdown",
   "id": "81901220-2189-4053-ad0a-79f9af9ef9c0",
   "metadata": {},
   "source": [
    "7. Predicción de casos (2 puntos): A continuación se generaron dos arrays que\n",
    "representan el peor escenario posible (worst_neighbor) y el mejor escenario\n",
    "posible (best_neighbor). Las variables representan, para cada caso, los valores de\n",
    "los siguientes atributos (en el mismo orden entregado): 'lstat', 'rm','ptratio', 'indus', 'tax', 'nox'.\n"
   ]
  },
  {
   "cell_type": "code",
   "execution_count": 18,
   "id": "53474813-6c4e-4dec-9dc1-5e076f947c1a",
   "metadata": {},
   "outputs": [
    {
     "name": "stdout",
     "output_type": "stream",
     "text": [
      "Pronostico worst_neighbor: 50.34432264997732\n",
      "Pronostico best_neighbor: 100.63570180961366\n"
     ]
    },
    {
     "name": "stderr",
     "output_type": "stream",
     "text": [
      "C:\\Users\\arlen\\AppData\\Roaming\\Python\\Python310\\site-packages\\sklearn\\base.py:450: UserWarning: X does not have valid feature names, but LinearRegression was fitted with feature names\n",
      "  warnings.warn(\n",
      "C:\\Users\\arlen\\AppData\\Roaming\\Python\\Python310\\site-packages\\sklearn\\base.py:450: UserWarning: X does not have valid feature names, but LinearRegression was fitted with feature names\n",
      "  warnings.warn(\n"
     ]
    }
   ],
   "source": [
    "worst_neighbor = np.array([37.9, 12.6, 3.5, 27.7, 187, 0.87]).reshape(1,-1)\n",
    "best_neighbor = np.array([1.73, 22, 8.7, 0.46, 711, 0.38]).reshape(1,-1)\n",
    "\n",
    "model= linear_model.LinearRegression()\n",
    "model.fit(X_train1, y_train1)\n",
    "predict_worst_neighbor= model.predict(worst_neighbor)\n",
    "predict_best_neighbor= model.predict(best_neighbor)\n",
    "\n",
    "print(f'Pronostico worst_neighbor: {predict_worst_neighbor[0]}')\n",
    "print(f'Pronostico best_neighbor: {predict_best_neighbor[0]}')      "
   ]
  },
  {
   "cell_type": "code",
   "execution_count": null,
   "id": "084088bc-7042-4bd7-b7d1-17dfbeda4e2a",
   "metadata": {},
   "outputs": [],
   "source": []
  },
  {
   "cell_type": "code",
   "execution_count": null,
   "id": "96a9b286-f43f-46f4-be4a-5977355e9409",
   "metadata": {},
   "outputs": [],
   "source": []
  }
 ],
 "metadata": {
  "kernelspec": {
   "display_name": "Python 3 (ipykernel)",
   "language": "python",
   "name": "python3"
  },
  "language_info": {
   "codemirror_mode": {
    "name": "ipython",
    "version": 3
   },
   "file_extension": ".py",
   "mimetype": "text/x-python",
   "name": "python",
   "nbconvert_exporter": "python",
   "pygments_lexer": "ipython3",
   "version": "3.9.12"
  }
 },
 "nbformat": 4,
 "nbformat_minor": 5
}
